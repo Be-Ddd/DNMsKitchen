{
 "cells": [
  {
   "cell_type": "code",
   "execution_count": 1,
   "metadata": {},
   "outputs": [
    {
     "name": "stdout",
     "output_type": "stream",
     "text": [
      "Requirement already satisfied: pandas in /Users/alinayuan/Desktop/Cornell/DNMsKitchen/sql_template/lib/python3.7/site-packages (1.3.5)\n",
      "Requirement already satisfied: python-dateutil>=2.7.3 in /Users/alinayuan/Desktop/Cornell/DNMsKitchen/sql_template/lib/python3.7/site-packages (from pandas) (2.9.0.post0)\n",
      "Requirement already satisfied: pytz>=2017.3 in /Users/alinayuan/Desktop/Cornell/DNMsKitchen/sql_template/lib/python3.7/site-packages (from pandas) (2024.1)\n",
      "Requirement already satisfied: numpy>=1.17.3; platform_machine != \"aarch64\" and platform_machine != \"arm64\" and python_version < \"3.10\" in /Users/alinayuan/Desktop/Cornell/DNMsKitchen/sql_template/lib/python3.7/site-packages (from pandas) (1.21.6)\n",
      "Requirement already satisfied: six>=1.5 in /Users/alinayuan/Desktop/Cornell/DNMsKitchen/sql_template/lib/python3.7/site-packages (from python-dateutil>=2.7.3->pandas) (1.16.0)\n",
      "\u001b[33mWARNING: You are using pip version 19.2.3, however version 24.0 is available.\n",
      "You should consider upgrading via the 'pip install --upgrade pip' command.\u001b[0m\n",
      "Note: you may need to restart the kernel to use updated packages.\n"
     ]
    }
   ],
   "source": [
    "%pip install pandas"
   ]
  },
  {
   "cell_type": "code",
   "execution_count": 2,
   "metadata": {},
   "outputs": [],
   "source": [
    "import pandas as pd\n",
    "raw_recipes = pd.read_csv('static/data/RAW_recipes_cut.csv')\n",
    "pp_recipes = pd.read_csv('static/data/PP_recipes_cut.csv')\n",
    "interactions = pd.read_csv('static/data/RAW_interactions_cut.csv')\n"
   ]
  },
  {
   "cell_type": "code",
   "execution_count": 10,
   "metadata": {},
   "outputs": [],
   "source": [
    "recipes_review_merge = pd.merge(raw_recipes, interactions, left_on='id',right_on='recipe_id', how='inner')\n",
    "recipes_review = recipes_review_merge[['id', 'name', 'minutes', 'tags', 'ingredients', 'steps','description', 'rating','review']]\n",
    "\n",
    "df2 = pd.DataFrame(recipes_review)\n",
    "df2['avg_rating']  = df2.groupby('id')['rating'].transform('mean')\n",
    "df_review = df2.groupby('id')['review'].agg(list).reset_index()\n",
    "df2 = df2.drop(['rating', 'review'], axis=1).drop_duplicates()\n",
    "result = pd.merge(df2, df_review, on='id', how='inner')\n",
    "\n",
    "recipes = []\n",
    "\n",
    "for index, row in result.iterrows():\n",
    "  review = row['review']\n",
    "  review = ''.join(str(x) for x in review)\n",
    "  recipes.append((row[\"name\"], str(row[\"tags\"]), str(row[\"tags\"])+str(row['name'])+str(row[\"steps\"])+str(row[\"description\"])+str(row[\"review\"]), review))\n"
   ]
  },
  {
   "cell_type": "code",
   "execution_count": 5,
   "metadata": {},
   "outputs": [
    {
     "name": "stdout",
     "output_type": "stream",
     "text": [
      "Requirement already satisfied: scikit-learn in /Users/alinayuan/Desktop/Cornell/DNMsKitchen/sql_template/lib/python3.7/site-packages (1.0.2)\n",
      "Requirement already satisfied: numpy>=1.14.6 in /Users/alinayuan/Desktop/Cornell/DNMsKitchen/sql_template/lib/python3.7/site-packages (from scikit-learn) (1.21.6)\n",
      "Requirement already satisfied: scipy>=1.1.0 in /Users/alinayuan/Desktop/Cornell/DNMsKitchen/sql_template/lib/python3.7/site-packages (from scikit-learn) (1.7.3)\n",
      "Requirement already satisfied: threadpoolctl>=2.0.0 in /Users/alinayuan/Desktop/Cornell/DNMsKitchen/sql_template/lib/python3.7/site-packages (from scikit-learn) (3.1.0)\n",
      "Requirement already satisfied: joblib>=0.11 in /Users/alinayuan/Desktop/Cornell/DNMsKitchen/sql_template/lib/python3.7/site-packages (from scikit-learn) (1.3.2)\n",
      "\u001b[33mWARNING: You are using pip version 19.2.3, however version 24.0 is available.\n",
      "You should consider upgrading via the 'pip install --upgrade pip' command.\u001b[0m\n",
      "Note: you may need to restart the kernel to use updated packages.\n"
     ]
    }
   ],
   "source": [
    "%pip install scikit-learn"
   ]
  },
  {
   "cell_type": "code",
   "execution_count": 6,
   "metadata": {},
   "outputs": [
    {
     "name": "stdout",
     "output_type": "stream",
     "text": [
      "Requirement already satisfied: scipy in /Users/alinayuan/Desktop/Cornell/DNMsKitchen/sql_template/lib/python3.7/site-packages (1.7.3)\n",
      "Requirement already satisfied: numpy<1.23.0,>=1.16.5 in /Users/alinayuan/Desktop/Cornell/DNMsKitchen/sql_template/lib/python3.7/site-packages (from scipy) (1.21.6)\n",
      "\u001b[33mWARNING: You are using pip version 19.2.3, however version 24.0 is available.\n",
      "You should consider upgrading via the 'pip install --upgrade pip' command.\u001b[0m\n",
      "Note: you may need to restart the kernel to use updated packages.\n"
     ]
    }
   ],
   "source": [
    "%pip install scipy"
   ]
  },
  {
   "cell_type": "code",
   "execution_count": 11,
   "metadata": {},
   "outputs": [
    {
     "name": "stderr",
     "output_type": "stream",
     "text": [
      "/Users/alinayuan/Desktop/Cornell/DNMsKitchen/sql_template/lib/python3.7/site-packages/sklearn/feature_extraction/text.py:401: UserWarning: Your stop_words may be inconsistent with your preprocessing. Tokenizing the stop words generated tokens ['ingredient', 'main', 'make', 'time', 'to'] not in stop_words.\n",
      "  % sorted(inconsistent)\n"
     ]
    }
   ],
   "source": [
    "from sklearn.feature_extraction.text import TfidfVectorizer\n",
    "from sklearn.preprocessing import normalize\n",
    "vectorizer = TfidfVectorizer(stop_words = ['english', 'time-to-make', 'course', 'cuisine', 'main-ingredient', 'occasion', 'equipment', 'preparation'], max_df = .8, min_df = 1)\n",
    "td_matrix = vectorizer.fit_transform([x[2] for x in recipes])\n"
   ]
  },
  {
   "cell_type": "code",
   "execution_count": 12,
   "metadata": {},
   "outputs": [],
   "source": [
    "from scipy.sparse.linalg import svds\n",
    "u, s, v_trans = svds(td_matrix, k=100)"
   ]
  },
  {
   "cell_type": "code",
   "execution_count": 13,
   "metadata": {},
   "outputs": [
    {
     "data": {
      "image/png": "[encoded data removed]",
      "text/plain": [
       "<Figure size 640x480 with 1 Axes>"
      ]
     },
     "metadata": {},
     "output_type": "display_data"
    }
   ],
   "source": [
    "import numpy as np\n",
    "import matplotlib.pyplot as plt\n",
    "%matplotlib inline\n",
    "plt.plot(s[::-1])\n",
    "plt.xlabel(\"Singular value number\")\n",
    "plt.ylabel(\"Singular value\")\n",
    "plt.show()"
   ]
  },
  {
   "cell_type": "code",
   "execution_count": 15,
   "metadata": {},
   "outputs": [
    {
     "name": "stdout",
     "output_type": "stream",
     "text": [
      "(13326, 40)\n",
      "(986, 40)\n"
     ]
    }
   ],
   "source": [
    "docs_compressed, s, words_compressed = svds(td_matrix, k=40)\n",
    "words_compressed = words_compressed.transpose()\n",
    "print(words_compressed.shape)\n",
    "print(docs_compressed.shape)"
   ]
  },
  {
   "cell_type": "code",
   "execution_count": 17,
   "metadata": {},
   "outputs": [],
   "source": [
    "word_to_index = vectorizer.vocabulary_\n",
    "index_to_word = {i:t for t,i in word_to_index.items()}\n",
    "\n",
    "words_compressed_normed = normalize(words_compressed, axis = 1)"
   ]
  },
  {
   "cell_type": "code",
   "execution_count": 18,
   "metadata": {},
   "outputs": [],
   "source": [
    "def closest_words(word_in, words_representation_in, k = 10):\n",
    "    if word_in not in word_to_index: return \"Not in vocab.\"\n",
    "    sims = words_representation_in.dot(words_representation_in[word_to_index[word_in],:])\n",
    "    asort = np.argsort(-sims)[:k+1]\n",
    "    return [(index_to_word[i],sims[i]) for i in asort[1:]]"
   ]
  },
  {
   "cell_type": "code",
   "execution_count": 19,
   "metadata": {},
   "outputs": [],
   "source": [
    "td_matrix_np = td_matrix.transpose().toarray()\n",
    "td_matrix_np = normalize(td_matrix_np)"
   ]
  },
  {
   "cell_type": "code",
   "execution_count": 26,
   "metadata": {},
   "outputs": [
    {
     "name": "stdout",
     "output_type": "stream",
     "text": [
      "Using SVD:\n",
      "glasses, 0.844\n",
      "ice, 0.816\n",
      "goblets, 0.791\n",
      "shears, 0.786\n",
      "floats, 0.786\n",
      "ripple, 0.786\n",
      "beverages, 0.784\n",
      "presentation, 0.766\n",
      "cold, 0.762\n",
      "served, 0.762\n",
      "\n"
     ]
    }
   ],
   "source": [
    "word = 'refreshing'\n",
    "print(\"Using SVD:\")\n",
    "for w, sim in closest_words(word, words_compressed_normed):\n",
    "  try:\n",
    "    print(\"{}, {:.3f}\".format(w, sim))\n",
    "  except:\n",
    "    print(\"word not found\")\n",
    "print()\n"
   ]
  },
  {
   "cell_type": "code",
   "execution_count": 27,
   "metadata": {},
   "outputs": [],
   "source": [
    "docs_compressed_normed = normalize(docs_compressed)\n",
    "\n",
    "def closest_projects_to_word(word_in, k = 5):\n",
    "    if word_in not in word_to_index: return \"Not in vocab.\"\n",
    "    sims = docs_compressed_normed.dot(words_compressed_normed[word_to_index[word_in],:])\n",
    "    asort = np.argsort(-sims)[:k+1]\n",
    "    return [(i, recipes[i][0],sims[i]) for i in asort[1:]]"
   ]
  },
  {
   "cell_type": "code",
   "execution_count": 31,
   "metadata": {},
   "outputs": [
    {
     "name": "stdout",
     "output_type": "stream",
     "text": [
      "(266, corn dog casserole, 0.5196\n",
      "(843, winnipeg chicken curry, 0.5089\n",
      "(419, puppy chow snack mix, 0.4803\n",
      "(369, tofu mayonnaise, 0.4703\n",
      "(473, mammy s apple crisp, 0.4663\n"
     ]
    }
   ],
   "source": [
    "query = \"i want an easy and sweet recipe that is really simple\"\n",
    "query_tfidf = vectorizer.transform([query]).toarray()\n",
    "query_vec = normalize(np.dot(query_tfidf, words_compressed)).squeeze()\n",
    "\n",
    "def closest_projects_to_query(query_vec_in, k = 5):\n",
    "    sims = docs_compressed_normed.dot(query_vec_in)\n",
    "    asort = np.argsort(-sims)[:k+1]\n",
    "    return [(i, recipes[i][0],sims[i]) for i in asort[1:]]\n",
    "\n",
    "for i, proj, sim in closest_projects_to_query(query_vec):\n",
    "    print(\"({}, {}, {:.4f}\".format(i, proj, sim))"
   ]
  },
  {
   "cell_type": "code",
   "execution_count": 32,
   "metadata": {},
   "outputs": [
    {
     "name": "stdout",
     "output_type": "stream",
     "text": [
      "Top words in dimension 0\n",
      "['salmon', 'spinach', 'phyllo', 'coconut', 'sauce', 'vinegar', 'roast', 'oven', 'biscuits', 'sheet']\n",
      "\n",
      "Top words in dimension 1\n",
      "['salmon', 'pineapple', 'peppers', 'lemon', 'marinade', 'scones', 'milk', 'sugar', 'pudding', 'chili']\n",
      "\n",
      "Top words in dimension 2\n",
      "['salmon', 'vinegar', 'punch', 'curry', 'american', 'crab', 'vinegars', 'bars', 'coffee', 'you']\n",
      "\n",
      "Top words in dimension 3\n",
      "['cup', 'pumpkin', 'spinach', 'orange', 'punch', 'phyllo', 'butter', 'enchiladas', 'biscuits', 'fudge']\n",
      "\n",
      "Top words in dimension 4\n",
      "['cheese', 'biscuits', 'heat', 'crust', 'chops', 'sausage', 'pizza', 'high', 'skillet', 'fish']\n",
      "\n",
      "Top words in dimension 5\n",
      "['orange', 'scones', 'punch', 'beat', 'vinegar', 'egg', 'biscuits', 'you', 'chocolate', 'juice']\n",
      "\n",
      "Top words in dimension 6\n",
      "['punch', 'shrimp', 'bars', 'ice', 'marinade', 'these', 'lemon', 'dressing', 'pasta', 'coffee']\n",
      "\n",
      "Top words in dimension 7\n",
      "['pasta', 'biscuits', 'coffee', 'pineapple', 'peppers', 'orange', 'vinegar', 'sausage', 'zucchini', 'noodles']\n",
      "\n",
      "Top words in dimension 8\n",
      "['peaches', 'peppers', 'shrimp', 'batter', 'enchiladas', 'pudding', 'dip', 'american', 'peach', 'tofu']\n",
      "\n",
      "Top words in dimension 9\n",
      "['batter', 'pork', 'muffins', 'phyllo', 'spinach', 'punch', 'chops', 'crab', 'bacon', 'spaetzle']\n",
      "\n",
      "Top words in dimension 10\n",
      "['pasta', 'beans', 'biscuits', 'marinade', 'peaches', 'cream', 'salmon', 'cook', 'medium', 'butter']\n",
      "\n",
      "Top words in dimension 11\n",
      "['coconut', 'curry', 'you', 'coffee', 'lamb', 'thai', 'milk', 'butter', 'spinach', 'low']\n",
      "\n",
      "Top words in dimension 12\n",
      "['marinade', 'pasta', 'pork', 'you', 'dressing', 'pizza', 'coffee', 'cup', 'sugar', 'spaetzle']\n",
      "\n",
      "Top words in dimension 13\n",
      "['pork', 'marinade', 'chops', 'shrimp', 'lamb', 'rice', 'soup', 'muffins', 'peaches', 'biscuits']\n",
      "\n",
      "Top words in dimension 14\n",
      "['peaches', 'crust', 'bars', 'spinach', 'peppers', 'beef', 'cauliflower', 'potatoes', 'coffee', 'cookies']\n",
      "\n",
      "Top words in dimension 15\n",
      "['sauce', 'enchiladas', 'chops', 'lamb', 'bars', 'salad', 'pudding', 'bread', 'dressing', 'pork']\n",
      "\n",
      "Top words in dimension 16\n",
      "['cookies', 'cookie', 'cream', 'vinegar', 'bread', 'peppers', 'american', 'coffee', 'drop', 'each']\n",
      "\n",
      "Top words in dimension 17\n",
      "['bread', 'cheese', 'pineapple', 'pasta', 'these', 'fruit', 'beans', 'shrimp', 'them', 'rice']\n",
      "\n",
      "Top words in dimension 18\n",
      "['beef', 'soup', 'apples', 'dressing', 'marinade', 'meatballs', 'pasta', 'meat', 'spinach', 'steak']\n",
      "\n",
      "Top words in dimension 19\n",
      "['squash', 'coconut', 'pineapple', 'fruit', 'marinade', 'beef', 'punch', 'orange', 'curry', 'juice']\n",
      "\n",
      "Top words in dimension 20\n",
      "['sauce', 'squash', 'soup', 'vinegar', 'lemon', 'butter', 'juice', 'jars', 'sugar', 'water']\n",
      "\n",
      "Top words in dimension 21\n",
      "['sauce', 'cookies', 'cup', 'coconut', 'muffins', 'cookie', 'potatoes', 'sweet', 'sugar', 'add']\n",
      "\n",
      "Top words in dimension 22\n",
      "['rice', 'cookies', 'potatoes', 'dough', 'pizza', 'punch', 'cookie', 'apples', 'pasta', 'was']\n",
      "\n",
      "Top words in dimension 23\n",
      "['cream', 'rice', 'coffee', 'potatoes', 'biscuits', 'milk', 'fish', 'dough', 'coconut', 'ice']\n",
      "\n",
      "Top words in dimension 24\n",
      "['rice', 'squash', 'pasta', 'muffins', 'low', 'these', 'bread', 'grains', 'pie', 'cup']\n",
      "\n",
      "Top words in dimension 25\n",
      "['bread', 'chocolate', 'potatoes', 'pudding', 'coffee', 'sauce', 'marinade', 'loaf', 'dressing', 'potato']\n",
      "\n",
      "Top words in dimension 26\n",
      "['apples', 'rice', 'apple', 'bread', 'soup', 'muffins', 'salad', 'dressing', 'fruit', 'cinnamon']\n",
      "\n",
      "Top words in dimension 27\n",
      "['apples', 'cheese', 'apple', 'cream', 'sauce', 'muffins', 'cinnamon', 'ice', 'crisp', 'enchiladas']\n",
      "\n",
      "Top words in dimension 28\n",
      "['soup', 'bread', 'chocolate', 'fish', 'cheese', 'cream', 'coffee', 'chicken', 'soups', 'milk']\n",
      "\n",
      "Top words in dimension 29\n",
      "['low', 'fish', 'soup', 'cake', 'potatoes', 'beef', 'they', 'rice', 'bread', 'healthy']\n",
      "\n",
      "Top words in dimension 30\n",
      "['rice', 'sauce', 'bread', 'dough', 'heat', 'beef', 'pasta', 'stir', 'sugar', 'water']\n",
      "\n",
      "Top words in dimension 31\n",
      "['dough', 'soup', 'bread', 'pizza', 'potatoes', 'low', 'cake', 'yeast', 'biscuits', 'rise']\n",
      "\n",
      "Top words in dimension 32\n",
      "['bread', 'dough', 'fish', 'chicken', 'pizza', 'yeast', 'cake', 'rolls', 'flour', 'breads']\n",
      "\n",
      "Top words in dimension 33\n",
      "['chicken', 'low', 'cookies', 'these', 'they', 'them', 'apples', 'cookie', 'fruit', 'ice']\n",
      "\n",
      "Top words in dimension 34\n",
      "['cake', 'low', 'chocolate', 'cakes', 'pineapple', 'coffee', 'frosting', 'cocoa', 'moist', 'ice']\n",
      "\n",
      "Top words in dimension 35\n",
      "['pie', 'chicken', 'pies', 'crust', 'cake', 'cream', 'tarts', 'was', 'pecan', 'sweet']\n",
      "\n",
      "Top words in dimension 36\n",
      "['chicken', 'cookies', 'cake', 'chocolate', 'dough', 'brownies', 'flour', 'cookie', 'breasts', 'pan']\n",
      "\n",
      "Top words in dimension 37\n",
      "['recipe', 'my', 'was', 'used', 'so', 'made', 'great', 'these', 'have', 'they']\n",
      "\n",
      "Top words in dimension 38\n",
      "['cake', 'cookies', 'chocolate', 'pie', 'sugar', 'these', 'dough', 'flour', 'baking', 'they']\n",
      "\n",
      "Top words in dimension 39\n",
      "['was', 'recipe', 'low', 'chicken', 'my', 'used', 'so', 'but', 'on', 'made']\n",
      "\n"
     ]
    }
   ],
   "source": [
    "for i in range(40):\n",
    "    print(\"Top words in dimension\", i)\n",
    "    dimension_col = words_compressed[:,i].squeeze()\n",
    "    asort = np.argsort(-dimension_col)\n",
    "    print([index_to_word[i] for i in asort[:10]])\n",
    "    print()"
   ]
  }
 ],
 "metadata": {
  "kernelspec": {
   "display_name": "sql_template",
   "language": "python",
   "name": "python3"
  },
  "language_info": {
   "codemirror_mode": {
    "name": "ipython",
    "version": 3
   },
   "file_extension": ".py",
   "mimetype": "text/x-python",
   "name": "python",
   "nbconvert_exporter": "python",
   "pygments_lexer": "ipython3",
   "version": "3.7.7"
  }
 },
 "nbformat": 4,
 "nbformat_minor": 2
}
